{
 "cells": [
  {
   "cell_type": "markdown",
   "metadata": {},
   "source": [
    "# Dependencies"
   ]
  },
  {
   "cell_type": "code",
   "execution_count": null,
   "metadata": {},
   "outputs": [],
   "source": [
    "from splinter import Browser\n",
    "from bs4 import BeautifulSoup as bs\n",
    "import time\n",
    "import pandas as pd\n",
    "import re"
   ]
  },
  {
   "cell_type": "markdown",
   "metadata": {},
   "source": [
    "# Chromdriver Path"
   ]
  },
  {
   "cell_type": "code",
   "execution_count": null,
   "metadata": {},
   "outputs": [],
   "source": [
    "def init_browser():\n",
    "    executable_path = {\"executable_path\": \"chromedriver.exe\"}\n",
    "    return Browser(\"chrome\", **executable_path, headless=False)"
   ]
  },
  {
   "cell_type": "markdown",
   "metadata": {},
   "source": [
    "# NASA Mars News"
   ]
  },
  {
   "cell_type": "code",
   "execution_count": null,
   "metadata": {},
   "outputs": [],
   "source": [
    "\n",
    "browser = init_browser()\n",
    "\n",
    "#----------Scraping Latest News from NASA Mars News Site -------------------------#\n",
    "\n",
    "# Visiting NASA Mars News Site\n",
    "url = \"https://mars.nasa.gov/news/\"\n",
    "browser.visit(url)\n",
    "\n",
    "time.sleep(3)\n",
    "\n",
    "# Scraping page into Soup\n",
    "html = browser.html\n",
    "soup = bs(html, \"html.parser\")\n",
    "\n",
    "# Getting the news part\n",
    "news = soup.find_all('div', class_=\"list_text\")[0]\n",
    "\n",
    "# Getting the news title\n",
    "news_title = news.find(class_=\"content_title\").text\n",
    "\n",
    "# Getting the news paragraph\n",
    "news_body = news.find(class_=\"article_teaser_body\").text\n",
    "\n",
    "# Getting the news date\n",
    "news_date = news.find(class_='list_date').text\n",
    "\n",
    "# Storing News Collected Data as a dictionary\n",
    "news_data= {\n",
    "    \"News Date\": news_date,\n",
    "    \"News Title\": news_title,\n",
    "    \"News Body\" : news_body\n",
    "}\n",
    "    \n",
    "      \n",
    "# Closing the browser after scraping\n",
    "browser.quit()"
   ]
  },
  {
   "cell_type": "markdown",
   "metadata": {},
   "source": [
    "# JPL Mars Space Images - Featured Image"
   ]
  },
  {
   "cell_type": "code",
   "execution_count": null,
   "metadata": {},
   "outputs": [],
   "source": [
    "browser = init_browser()\n",
    "\n",
    "#---------------Scraping JPL Mars Space Images from JPL website -------------------------#\n",
    "\n",
    "# Visiting JPL Site\n",
    "url_jpl = \"https://www.jpl.nasa.gov/spaceimages/?search=&category=Mars\"\n",
    "browser.visit(url_jpl)\n",
    "\n",
    "time.sleep(2)\n",
    "\n",
    "# Scraping page into Soup\n",
    "html= browser.html\n",
    "soup= bs(html, \"html.parser\")\n",
    "\n",
    " # Getting the featured Image Part  \n",
    "featured_image_info = soup.find('article', class_=\"carousel_item\")['style']\n",
    "\n",
    "# Finding the Image Name\n",
    "featured_image_name= (featured_image_info.split(\"wallpaper/\")[1]).split(\".jpg\")[0]\n",
    "\n",
    "# Creating the Featured Image URL\n",
    "main_jpl_url = \"https://www.jpl.nasa.gov/spaceimages/images/wallpaper/\"\n",
    "featured_image_url= main_jpl_url + featured_image_name + \".jpg\"\n",
    "\n",
    "\n",
    "# Closing the browser after scraping\n",
    "browser.quit()"
   ]
  },
  {
   "cell_type": "markdown",
   "metadata": {},
   "source": [
    "# Mars Weather"
   ]
  },
  {
   "cell_type": "code",
   "execution_count": null,
   "metadata": {},
   "outputs": [],
   "source": [
    "browser = init_browser()\n",
    "\n",
    "#----------Scraping Mars Weather from Mars Weather Twitter Account -------------------------#  \n",
    "\n",
    "url_twitter = \"https://twitter.com/marswxreport?lang=en\"\n",
    "browser.visit(url_twitter)\n",
    "\n",
    "time.sleep(10)\n",
    "\n",
    "# Scraping page into Soup\n",
    "html= browser.html\n",
    "soup= bs(html, \"html.parser\")\n",
    "\n",
    "# Finding the latest Tweet about Mars Weather   \n",
    "mars_weather = (soup.find('div', attrs={\"data-testid\": \"tweet\"}).get_text()).split('InSight ')[1]\n",
    "\n",
    "# Closing the browser after scraping\n",
    "browser.quit()"
   ]
  },
  {
   "cell_type": "markdown",
   "metadata": {},
   "source": [
    "# Mars Facts"
   ]
  },
  {
   "cell_type": "code",
   "execution_count": null,
   "metadata": {},
   "outputs": [],
   "source": [
    "\n",
    "#------------------Scraping Mars Facts from Space Fact website -------------------------#  \n",
    "\n",
    "url_facts =\"https://space-facts.com/mars/\"\n",
    "\n",
    "\n",
    "# Getting the fact table\n",
    "tables = pd.read_html(url_facts)\n",
    "fact_table = pd.DataFrame(tables[0])\n",
    "\n",
    "fact_table = fact_table.rename(columns={\n",
    "    0 : \"Description\",\n",
    "    1 : \"Value\"\n",
    "})\n",
    "\n",
    "fact_table.set_index(\"Description\", inplace = True)\n",
    "\n",
    "# Creating the html Table\n",
    "table_html = fact_table.to_html()\n",
    "\n",
    "# Cleaning the table\n",
    "table_html= table_html.replace('\\n',\"\")"
   ]
  },
  {
   "cell_type": "markdown",
   "metadata": {},
   "source": [
    "# Mars Hemispheres (Finding URL of each page)"
   ]
  },
  {
   "cell_type": "code",
   "execution_count": null,
   "metadata": {},
   "outputs": [],
   "source": [
    "\n",
    "browser = init_browser()\n",
    "\n",
    "#----------Scraping Mars Hemispheres images URL from USGS Astrogeology Site -------------------------#  \n",
    "url_full_img = \"https://astrogeology.usgs.gov\"\n",
    "url_usgs = \"https://astrogeology.usgs.gov/search/results?q=hemisphere+enhanced&k1=target&v1=Mars\"\n",
    "browser.visit(url_usgs)\n",
    "\n",
    "time.sleep(4)\n",
    "\n",
    "# Scraping page into Soup\n",
    "html= browser.html\n",
    "soup= bs(html, \"html.parser\")\n",
    "\n",
    "# Finding the URL of each Hemispheres Images\n",
    "url_list= []\n",
    "for x in range (8):\n",
    "    if (x % 2) == 0:\n",
    "        url_image = soup.find('div', class_=\"collapsible results\").find_all('a')[x]['href']\n",
    "        full_url = url_full_img + url_image\n",
    "        url_list.append(full_url)\n",
    "\n",
    "\n",
    "# Closing the browser after scraping\n",
    "browser.quit()"
   ]
  },
  {
   "cell_type": "markdown",
   "metadata": {},
   "source": [
    "# Mars Hemispheres (Title & URLs)"
   ]
  },
  {
   "cell_type": "code",
   "execution_count": null,
   "metadata": {},
   "outputs": [],
   "source": [
    "\n",
    "#----------Scraping Mars Hemispheres Infos from USGS Astrogeology Site -------------------------#  \n",
    "\n",
    "url_full_img = \"https://astrogeology.usgs.gov\"\n",
    "\n",
    "final_hemispheres_info=[]\n",
    "\n",
    "# Finding the URL & Title of each Hemispheres Images in full size\n",
    "for url in url_list:\n",
    "    browser = init_browser()\n",
    "    browser.visit(url)\n",
    "\n",
    "    time.sleep (4)\n",
    "\n",
    "    # Scraping page into Soup\n",
    "    html= browser.html\n",
    "    soup= bs(html, \"html.parser\")\n",
    "\n",
    "    # Finding the URL of each Hemispheres Images in full size\n",
    "    src_image = soup.find('img', class_=\"wide-image\")['src']\n",
    "    url_final_image = url_full_img + src_image\n",
    "\n",
    "    # Finding the Title of each Hemispheres Images in full size\n",
    "    image_title = soup.find('h2', class_=\"title\").get_text()\n",
    "\n",
    "    #Creating a dictionary of Info\n",
    "    dic = {\"Title\": image_title ,\n",
    "          \"Image_URL\": url_final_image}\n",
    "\n",
    "    final_hemispheres_info.append(dic)\n",
    "\n",
    "    # Closing the browser after scraping\n",
    "    browser.quit()"
   ]
  },
  {
   "cell_type": "code",
   "execution_count": null,
   "metadata": {},
   "outputs": [],
   "source": [
    "# Final Dictionary of All Gathered Data\n",
    "mars_data = {\n",
    "    \"news_date\": news_date,\n",
    "    \"news_title\": news_title,\n",
    "    \"news_p\": news_body,\n",
    "    \"featured_image_url\": featured_image_url,\n",
    "    \"mars_weather\": mars_weather,\n",
    "    \"Fact Table\": table_html,\n",
    "    \"hemisphere_image_title_1\": final_hemispheres_info[0][\"Title\"],\n",
    "    \"hemisphere_image_url_1\": final_hemispheres_info[0][\"Image_URL\"],\n",
    "    \"hemisphere_image_title_2\": final_hemispheres_info[1][\"Title\"],\n",
    "    \"hemisphere_image_url_2\": final_hemispheres_info[1][\"Image_URL\"],\n",
    "    \"hemisphere_image_title_3\": final_hemispheres_info[2][\"Title\"],\n",
    "    \"hemisphere_image_url_3\": final_hemispheres_info[2][\"Image_URL\"],\n",
    "    \"hemisphere_image_title_4\": final_hemispheres_info[3][\"Title\"],\n",
    "    \"hemisphere_image_url_4\": final_hemispheres_info[3][\"Image_URL\"]\n",
    "}"
   ]
  },
  {
   "cell_type": "code",
   "execution_count": null,
   "metadata": {},
   "outputs": [],
   "source": [
    "print(mars_data)"
   ]
  },
  {
   "cell_type": "code",
   "execution_count": null,
   "metadata": {},
   "outputs": [],
   "source": []
  }
 ],
 "metadata": {
  "kernelspec": {
   "display_name": "Python 3",
   "language": "python",
   "name": "python3"
  },
  "language_info": {
   "codemirror_mode": {
    "name": "ipython",
    "version": 3
   },
   "file_extension": ".py",
   "mimetype": "text/x-python",
   "name": "python",
   "nbconvert_exporter": "python",
   "pygments_lexer": "ipython3",
   "version": "3.7.6"
  }
 },
 "nbformat": 4,
 "nbformat_minor": 4
}
